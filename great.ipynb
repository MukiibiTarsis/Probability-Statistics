{
 "cells": [
  {
   "cell_type": "code",
   "execution_count": null,
   "metadata": {
    "vscode": {
     "languageId": "plaintext"
    }
   },
   "outputs": [],
   "source": [
    "data = pd.read_excel['cancer_data.xlsx']\n",
    "\n",
    "benign = data[data['diagnosis'] == 'B'].smoothness_mean\n",
    "melignant = data[data['diagnosis'] == 'M']. smoothness_mean\n",
    "\n",
    "f_statistic, pvalue = stats.f_oneway(benign, melignant)\n",
    "\n",
    "if pvalue < 0.05:\n",
    "    print('no signficant difference')\n",
    "else:\n",
    "    print('signficant difference')"
   ]
  },
  {
   "cell_type": "code",
   "execution_count": null,
   "metadata": {
    "vscode": {
     "languageId": "plaintext"
    }
   },
   "outputs": [],
   "source": [
    "radius_mean = data['radius_mean']\n",
    "\n",
    "statistic, pvalue = stats.shapiro(radius_mean)\n",
    "\n",
    "print(f'shapiro-wilk statistic: {statistic}')\n",
    "print(f'pvalue: {pvalue}')\n",
    "\n",
    "if pvalue < 0.05:\n",
    "    print('this is not NDS')\n",
    "else:\n",
    "    print('this is NDS')"
   ]
  },
  {
   "cell_type": "code",
   "execution_count": null,
   "metadata": {
    "vscode": {
     "languageId": "plaintext"
    }
   },
   "outputs": [],
   "source": [
    "bins= [0.2, 0.4, 0.6, 0.8, 1.0]\n",
    "labels= ['0.2-0.4', '0.4-0.6', '0.6-0.8', '0.8-1.0']\n",
    "\n",
    "data['smoothness_category'] = pd.cut(data['smoothness_mean'], bins= bins, labels= labels, right= false)"
   ]
  },
  {
   "cell_type": "code",
   "execution_count": null,
   "metadata": {
    "vscode": {
     "languageId": "plaintext"
    }
   },
   "outputs": [],
   "source": [
    "contigency_table = pd.crosstab(data['diagnosis'], data['smoothness_category'])\n",
    "\n",
    "chi2_stat, pvalue, dof, expected = pd.chi2_contigency(contigency_table)"
   ]
  },
  {
   "cell_type": "code",
   "execution_count": null,
   "metadata": {
    "vscode": {
     "languageId": "plaintext"
    }
   },
   "outputs": [],
   "source": [
    "radius_mean = data['radius_mean']\n",
    "\n",
    "ktest_stat, pvalue = stats.kstest(radius_mean, 'norm')\n",
    "\n",
    "print(ktest_stat)\n",
    "print(pvalue)\n",
    "\n",
    "if pvalue < 0.05:\n",
    "    print('not NDS')\n",
    "else:\n",
    "    print('NDS')\n"
   ]
  },
  {
   "cell_type": "code",
   "execution_count": null,
   "metadata": {
    "vscode": {
     "languageId": "plaintext"
    }
   },
   "outputs": [],
   "source": [
    "group1 = data[data['diagnosis'] == 'M'].smoothness_mean\n",
    "group2 = data[data['diagnosis'] == 'B'].smoothness_mean\n",
    "\n",
    "ktest_stat, pvalue = stats.k2test(group1, group2)\n",
    "\n",
    "print(ktest_stat)\n",
    "print(pvalue)\n",
    "\n",
    "if pvalue < 0.05:\n",
    "    print('from different distribution')\n",
    "\n",
    "else:\n",
    "    print('from same distribution')"
   ]
  }
 ],
 "metadata": {
  "kernelspec": {
   "display_name": "Python 3",
   "language": "python",
   "name": "python3"
  },
  "language_info": {
   "codemirror_mode": {
    "name": "ipython",
    "version": 3
   },
   "file_extension": ".py",
   "mimetype": "text/x-python",
   "name": "python",
   "nbconvert_exporter": "python",
   "pygments_lexer": "ipython3",
   "version": "3.13.2"
  }
 },
 "nbformat": 4,
 "nbformat_minor": 2
}
