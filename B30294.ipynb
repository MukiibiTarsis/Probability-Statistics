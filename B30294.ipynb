{
 "cells": [
  {
   "cell_type": "markdown",
   "metadata": {},
   "source": [
    "# MUKIIBI TARSIS | B30294 | S24B38/004"
   ]
  },
  {
   "cell_type": "markdown",
   "metadata": {},
   "source": [
    "# Searching Algorithms\n",
    "## Linear Search\n",
    "- This is an algorithm that searches for a particular element within an array by comparing every element in the array with the required element until a particular element in the array."
   ]
  },
  {
   "cell_type": "code",
   "execution_count": null,
   "metadata": {},
   "outputs": [],
   "source": [
    "'''\n",
    "PSEUDOCODE FOR LINEAR SEARCH\n",
    "\n",
    "START\n",
    "\n",
    "INPUT list of vowels\n",
    "FOR every elemet in vowels:\n",
    "    IF element equals 'o':\n",
    "        OUTPUT ('This is the required item')\n",
    "    ELSE:\n",
    "        continue\n",
    "        \n",
    "STOP\n",
    "\n",
    "'''"
   ]
  },
  {
   "cell_type": "markdown",
   "metadata": {},
   "source": [
    "Flowchart for a linear search"
   ]
  },
  {
   "cell_type": "code",
   "execution_count": 4,
   "metadata": {},
   "outputs": [
    {
     "name": "stdout",
     "output_type": "stream",
     "text": [
      "This is the required element, o\n"
     ]
    }
   ],
   "source": [
    "# PYTHON IMPLEMENTATION OF LINEAR SEARCH\n",
    "\n",
    "vowels = ['a', 'e', 'i', 'o', 'u'] #create a list of vowels\n",
    "for i in vowels: # run a for loop to compare each element list \n",
    "    if i =='o': # condition to capture the required element 'o'\n",
    "        print(f'This is the required element, {i}') #output to confirm required element\n",
    "    else:\n",
    "        continue #to proceed with loop if required element is not acheived\n"
   ]
  },
  {
   "cell_type": "markdown",
   "metadata": {},
   "source": [
    "Time Complexity Analysis\n",
    "- Best-case: When the required element is in the first index hence best complexity is O(1)\n",
    "- Worst-case: When the required element is in the last index and hence the last index is dependent on the size of list hence the worst complexity is O(N) where N is the size of list\n",
    "- Average-case: When the required element lies between the first and last index where its position varies according to size of list and hence average case is O(N)"
   ]
  },
  {
   "cell_type": "markdown",
   "metadata": {},
   "source": [
    "Advantages of Linear Search\n",
    "- Can be used whether the list is sorted or not\n",
    "- Does not require additional memory\n",
    "- Well suited for small datasets\n",
    "\n",
    "Disadvantages of Linear Search\n",
    "- Not suitable for large arrays\n",
    "- Has a time complexity of O(N) which makes it slow for large datasets"
   ]
  },
  {
   "cell_type": "markdown",
   "metadata": {},
   "source": [
    "When to use Linear Search\n",
    "- When working on small datasets\n",
    "- When searching for dataset stored in contigous memory"
   ]
  },
  {
   "cell_type": "markdown",
   "metadata": {},
   "source": [
    "When not to use Linear Search\n",
    "- When working on large datasets"
   ]
  },
  {
   "cell_type": "markdown",
   "metadata": {},
   "source": [
    "## Binary Search\n",
    "- This is an algorithm that finds the middle element in the list and compares with two subgroups on either side of the middle element to see where the element lies. In the sub group where the element lies, a middle element is still got and the required element is again compared with proceeding subgroups and the process is repeated until the required element is acheived.\n",
    "- This algorithm however works when the elements in the list are ordered and sorted"
   ]
  },
  {
   "cell_type": "code",
   "execution_count": null,
   "metadata": {},
   "outputs": [],
   "source": [
    "'''\n",
    "PSEUDOCODE FOR BINARY SEARCH\n",
    "(Required number is 2 in a list of numbers from 1 to 10)\n",
    "\n",
    "START\n",
    "\n",
    "INPUT list numbers\n",
    "VARIABLE middle_number = length of list numbers/2\n",
    "IF \n",
    "\n",
    "STOP\n",
    "\n",
    "'''"
   ]
  },
  {
   "cell_type": "markdown",
   "metadata": {},
   "source": [
    "Flowchart for Binary Search"
   ]
  },
  {
   "cell_type": "code",
   "execution_count": 5,
   "metadata": {},
   "outputs": [],
   "source": [
    "numbers = [1,2,3,4,5,6,7,8,9]\n",
    "middle_number = len(numbers)//2\n",
    "required_number = 2\n",
    "for i in numbers:\n",
    "    if required_number < numbers[middle_number]:\n",
    "        while numbers[middle_number]<middle_number:\n",
    "            numbers.pop()\n",
    "            middle_number = middle_number-1\n",
    "            numbers = numbers\n",
    "            if i == required_number:\n",
    "                print('This is the required number')\n",
    "            else:\n",
    "                print('This is not the required element')   \n",
    "    else:\n",
    "        while numbers[middle_number]<middle_number:\n",
    "            numbers.pop()\n",
    "            middle_number = middle_number-1\n",
    "            numbers = numbers\n",
    "            if i == required_number:\n",
    "                print('This is the required number')\n",
    "            else:\n",
    "                print('This is not the required element')\n"
   ]
  },
  {
   "cell_type": "markdown",
   "metadata": {},
   "source": [
    "Time Complexity Analysis\n",
    "- Best-Case: O(1)\n",
    "- Worst-Case: O(logN)\n",
    "- Average-Case: O(logN)"
   ]
  },
  {
   "cell_type": "markdown",
   "metadata": {},
   "source": [
    "Advantages of Binary Search Algorithm\n",
    "- Faster than linear search\n",
    "- Well suited for large datasets\n",
    "- More efficient than other searching algorithms with similar time complexities eg exponential search and interpolation search\n",
    "\n",
    "Disadvantages of Binary Search Algorithm\n",
    "- Elements in array should be sorted\n",
    "- Requires storage of data structure in contiguous memory locations"
   ]
  },
  {
   "cell_type": "markdown",
   "metadata": {},
   "source": [
    "When to use it\n",
    "- When working with large datasets\n",
    "- When the list or array is sorted\n",
    "\n",
    "When not to use it\n",
    "- When elements in list are not sorted "
   ]
  },
  {
   "cell_type": "markdown",
   "metadata": {},
   "source": [
    "# Sorting Algorithms\n",
    "## Bubble Sort\n",
    "- This is an algorithm that selects the starting element within the list and compares it with all the elements in the list while rearranging it appropriately until it is in the right postion. Another element is selected and this procedure is repeated until all the numbers are in their rightful order."
   ]
  },
  {
   "cell_type": "code",
   "execution_count": null,
   "metadata": {},
   "outputs": [],
   "source": [
    "'''\n",
    "PSEUDOCODE FOR BUBBLE SORT\n",
    "\n",
    "START\n",
    "\n",
    "INPUT list\n",
    "\n",
    "STOP\n",
    "\n",
    "\n",
    "'''"
   ]
  },
  {
   "cell_type": "markdown",
   "metadata": {},
   "source": [
    "Flowchart for Bubble Sort"
   ]
  },
  {
   "cell_type": "code",
   "execution_count": null,
   "metadata": {},
   "outputs": [],
   "source": [
    "bubble sort pyth"
   ]
  }
 ],
 "metadata": {
  "kernelspec": {
   "display_name": "Python 3",
   "language": "python",
   "name": "python3"
  },
  "language_info": {
   "codemirror_mode": {
    "name": "ipython",
    "version": 3
   },
   "file_extension": ".py",
   "mimetype": "text/x-python",
   "name": "python",
   "nbconvert_exporter": "python",
   "pygments_lexer": "ipython3",
   "version": "3.13.2"
  }
 },
 "nbformat": 4,
 "nbformat_minor": 2
}
